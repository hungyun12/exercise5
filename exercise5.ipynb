{
 "cells": [
  {
   "cell_type": "markdown",
   "metadata": {},
   "source": [
    "# exercise 8th weeks - text-mining classification 201521492 김형윤\n"
   ]
  },
  {
   "cell_type": "markdown",
   "metadata": {},
   "source": [
    "텍스트마이닝-Classification 실습 자료\n",
    "\n",
    "8주차 실습에서는 다음 4가지의 실습 중 하나 이상을 반드시 포함해야 합니다.\n",
    "\n",
    "  1. featureset - bagofwords, tfidf, countvector\n",
    "\n",
    "  2. 영문문서 분류\n",
    "\n",
    "  3. 한글문서 분류\n",
    "\n",
    "  4. 엔그램 \n",
    "\n",
    "9주차 실습에서는 다음 4가지의 실습 중 하나 이상을 반드시 포함해야 합니다.\n",
    "\n",
    "  1. 토픽모델링\n",
    "\n",
    "  2. 토픽트렌드\n",
    "\n",
    "  3. 워드투벡\n",
    "\n",
    "  4. keras RNN 기반 문서 분류"
   ]
  },
  {
   "cell_type": "markdown",
   "metadata": {},
   "source": [
    "## 1. 8주차 featureset - bagofwords, tfidf, countvector"
   ]
  },
  {
   "cell_type": "code",
   "execution_count": 2,
   "metadata": {},
   "outputs": [],
   "source": [
    "# bag of words 함수 설정\n",
    "def bag_of_words(words):\n",
    "    return dict([(word, True) for word in words]) "
   ]
  },
  {
   "cell_type": "code",
   "execution_count": 39,
   "metadata": {
    "scrolled": true
   },
   "outputs": [
    {
     "name": "stdout",
     "output_type": "stream",
     "text": [
      "review count: 2000\n",
      "['neg/cv000_29416.txt', 'neg/cv001_19502.txt', 'neg/cv002_17424.txt', 'neg/cv003_12683.txt', 'neg/cv004_12641.txt', 'neg/cv005_29357.txt', 'neg/cv006_17022.txt', 'neg/cv007_4992.txt', 'neg/cv008_29326.txt', 'neg/cv009_29417.txt']\n",
      "['neg', 'pos']\n",
      "\"neg\" reviews: 1000\n",
      "\"pos\" reviews: 1000\n",
      "id: neg/cv000_29416.txt\n",
      "plot : two teen couples go to a church party , drink and then drive . \n",
      "they get into an accident . \n",
      "one of the guys dies , but his girlfriend continues to see him in her life , and has nightmares . \n",
      "what's the deal ? \n",
      "watch the movie and \" sorta \" find out . . . \n",
      "critique : a mind-fuck movie for the teen generation that touches on a very cool idea , but presents it in a very bad package . \n",
      "which is what makes this review an even harder one to write , since i generally applaud films which attempt\n",
      "[['plot', ':', 'two', 'teen', 'couples', 'go', 'to', 'a', 'church', 'party', ',', 'drink', 'and', 'then', 'drive', '.'], ['they', 'get', 'into', 'an', 'accident', '.']]\n",
      "['plot', ':', 'two', 'teen', 'couples', 'go', 'to', 'a', 'church', 'party']\n"
     ]
    },
    {
     "name": "stderr",
     "output_type": "stream",
     "text": [
      "[nltk_data] Downloading package movie_reviews to\n",
      "[nltk_data]     C:\\Users\\Administrator\\AppData\\Roaming\\nltk_data...\n",
      "[nltk_data]   Package movie_reviews is already up-to-date!\n"
     ]
    }
   ],
   "source": [
    "import nltk\n",
    "nltk.download('movie_reviews')\n",
    "\n",
    "from nltk.corpus import movie_reviews\n",
    "\n",
    "print('review count:', len(movie_reviews.fileids())) #영화 리뷰 문서의 id를 반환\n",
    "print(movie_reviews.fileids()[:10]) #id를 10개까지만 출력\n",
    "print(movie_reviews.categories()) # label, 즉 긍정인지 부정인지에 대한 분류\n",
    "print('\"neg\" reviews:', len(movie_reviews.fileids(categories='neg'))) #label이 부정인 문서들의 id를 반환\n",
    "print('\"pos\" reviews:', len(movie_reviews.fileids(categories='pos'))) #label이 긍정인 문서들의 id를 반환\n",
    "fileid = movie_reviews.fileids()[0] #첫번째 문서의 id를 반환\n",
    "print('id:', fileid)\n",
    "print(movie_reviews.raw(fileid)[:500]) #첫번째 문서의 내용을 500자까지만 출력\n",
    "print(movie_reviews.sents(fileid)[:2]) #첫번째 문서를 sentence tokenize한 결과 중 앞 두 문장\n",
    "print(movie_reviews.words(fileid)[:10]) #첫번째 문서를 word tokenize한 결과 중 앞 열 단어"
   ]
  },
  {
   "cell_type": "code",
   "execution_count": 7,
   "metadata": {},
   "outputs": [
    {
     "name": "stderr",
     "output_type": "stream",
     "text": [
      "[nltk_data] Downloading package punkt to\n",
      "[nltk_data]     C:\\Users\\Administrator\\AppData\\Roaming\\nltk_data...\n",
      "[nltk_data]   Package punkt is already up-to-date!\n"
     ]
    },
    {
     "data": {
      "text/plain": [
       "True"
      ]
     },
     "execution_count": 7,
     "metadata": {},
     "output_type": "execute_result"
    }
   ],
   "source": [
    "import nltk\n",
    "nltk.download('punkt')\n",
    "# 에러가 나서 추가적으로 punkt 를 다운"
   ]
  },
  {
   "cell_type": "code",
   "execution_count": 5,
   "metadata": {},
   "outputs": [
    {
     "name": "stderr",
     "output_type": "stream",
     "text": [
      "[nltk_data] Downloading package movie_reviews to\n",
      "[nltk_data]     C:\\Users\\Administrator\\AppData\\Roaming\\nltk_data...\n",
      "[nltk_data]   Package movie_reviews is already up-to-date!\n"
     ]
    },
    {
     "name": "stdout",
     "output_type": "stream",
     "text": [
      "review count: 2000\n",
      "['neg/cv000_29416.txt', 'neg/cv001_19502.txt', 'neg/cv002_17424.txt', 'neg/cv003_12683.txt', 'neg/cv004_12641.txt', 'neg/cv005_29357.txt', 'neg/cv006_17022.txt', 'neg/cv007_4992.txt', 'neg/cv008_29326.txt', 'neg/cv009_29417.txt']\n",
      "['neg', 'pos']\n",
      "\"neg\" reviews: 1000\n",
      "\"pos\" reviews: 1000\n",
      "id: neg/cv000_29416.txt\n",
      "plot : two teen couples go to a church party , drink and then drive . \n",
      "they get into an accident . \n",
      "one of the guys dies , but his girlfriend continues to see him in her life , and has nightmares . \n",
      "what's the deal ? \n",
      "watch the movie and \" sorta \" find out . . . \n",
      "critique : a mind-fuck movie for the teen generation that touches on a very cool idea , but presents it in a very bad package . \n",
      "which is what makes this review an even harder one to write , since i generally applaud films which attempt\n",
      "[['plot', ':', 'two', 'teen', 'couples', 'go', 'to', 'a', 'church', 'party', ',', 'drink', 'and', 'then', 'drive', '.'], ['they', 'get', 'into', 'an', 'accident', '.']]\n",
      "['plot', ':', 'two', 'teen', 'couples', 'go', 'to', 'a', 'church', 'party']\n"
     ]
    }
   ],
   "source": [
    "import nltk\n",
    "nltk.download('movie_reviews')\n",
    "\n",
    "from nltk.corpus import movie_reviews\n",
    "\n",
    "print('review count:', len(movie_reviews.fileids())) #영화 리뷰 문서의 id를 반환\n",
    "print(movie_reviews.fileids()[:10]) #id를 10개까지만 출력\n",
    "print(movie_reviews.categories()) # label, 즉 긍정인지 부정인지에 대한 분류\n",
    "print('\"neg\" reviews:', len(movie_reviews.fileids(categories='neg'))) #label이 부정인 문서들의 id를 반환\n",
    "print('\"pos\" reviews:', len(movie_reviews.fileids(categories='pos'))) #label이 긍정인 문서들의 id를 반환\n",
    "fileid = movie_reviews.fileids()[0] #첫번째 문서의 id를 반환\n",
    "print('id:', fileid)\n",
    "print(movie_reviews.raw(fileid)[:500]) #첫번째 문서의 내용을 500자까지만 출력\n",
    "print(movie_reviews.sents(fileid)[:2]) #첫번째 문서를 sentence tokenize한 결과 중 앞 두 문장\n",
    "print(movie_reviews.words(fileid)[:10]) #첫번째 문서를 word tokenize한 결과 중 앞 열 단어"
   ]
  },
  {
   "cell_type": "code",
   "execution_count": 6,
   "metadata": {},
   "outputs": [
    {
     "name": "stdout",
     "output_type": "stream",
     "text": [
      "dict_keys(['neg', 'pos'])\n"
     ]
    }
   ],
   "source": [
    "import collections\n",
    "\n",
    "#feature 추출을 위한 함수로, 앞서 정의한 bag_of_words()를 사용\n",
    "def label_feats_from_corpus(corp, feature_detector=bag_of_words): \n",
    "    label_feats = collections.defaultdict(list) # container 초기화\n",
    "    for label in corp.categories(): #''neg', 'pos' 각 label에 대해\n",
    "        for fileid in corp.fileids(categories=[label]): #각 label에 해당하는 문서들에 대해\n",
    "            feats = feature_detector(corp.words(fileids=[fileid])) #주어진 문서를 bag_of_words feature로 변환\n",
    "            label_feats[label].append(feats) #container에 feature 추가\n",
    "    return label_feats\n",
    "\n",
    "lfeats = label_feats_from_corpus(movie_reviews)\n",
    "print(lfeats.keys())"
   ]
  },
  {
   "cell_type": "code",
   "execution_count": 8,
   "metadata": {},
   "outputs": [
    {
     "data": {
      "text/plain": [
       "1000"
      ]
     },
     "execution_count": 8,
     "metadata": {},
     "output_type": "execute_result"
    }
   ],
   "source": [
    "len(lfeats['neg'])"
   ]
  },
  {
   "cell_type": "code",
   "execution_count": 9,
   "metadata": {},
   "outputs": [
    {
     "data": {
      "text/plain": [
       "'plot, :, two, teen, couples, go, to, a, church, party, ,, drink, and, then, drive, ., they, get, into, an, accident, one, of, the, guys, dies, but, his, girlfriend, continues, see, him, in, her, life, has, nightmares, what, \\', s, deal, ?, watch, movie, \", sorta, find, out, critique, mind, -, fuck, for, generation, that, touches, on, very, cool, idea, presents, it, bad, package, which, is, makes, this, review, even, harder, write, since, i, generally, applaud, films, attempt, break, mold, mess, with, your, head, such, (, lost, highway, &, memento, ), there, are, good, ways, making, all, types, these, folks, just, didn, t, snag, correctly, seem, have, taken, pretty, neat, concept, executed, terribly, so, problems, well, its, main, problem, simply, too, jumbled, starts, off, normal, downshifts, fantasy, world, you, as, audience, member, no, going, dreams, characters, coming, back, from, dead, others, who, look, like, strange, apparitions, disappearances, looooot, chase, scenes, tons, weird, things, happen, most, not, explained, now, personally, don, trying, unravel, film, every, when, does, give, me, same, clue, over, again, kind, fed, up, after, while, biggest, obviously, got, big, secret, hide, seems, want, completely, until, final, five, minutes, do, make, entertaining, thrilling, or, engaging, meantime, really, sad, part, arrow, both, dig, flicks, we, actually, figured, by, half, way, point, strangeness, did, start, little, bit, sense, still, more, guess, bottom, line, movies, should, always, sure, before, given, password, enter, understanding, mean, showing, melissa, sagemiller, running, away, visions, about, 20, throughout, plain, lazy, !, okay, people, chasing, know, need, how, giving, us, different, offering, further, insight, down, apparently, studio, took, director, chopped, themselves, shows, might, ve, been, decent, here, somewhere, suits, decided, turning, music, video, edge, would, actors, although, wes, bentley, seemed, be, playing, exact, character, he, american, beauty, only, new, neighborhood, my, kudos, holds, own, entire, feeling, unraveling, overall, doesn, stick, because, entertain, confusing, rarely, excites, feels, redundant, runtime, despite, ending, explanation, craziness, came, oh, horror, slasher, flick, packaged, someone, assuming, genre, hot, kids, also, wrapped, production, years, ago, sitting, shelves, ever, whatever, skip, where, joblo, nightmare, elm, street, 3, 7, /, 10, blair, witch, 2, crow, 9, salvation, 4, stir, echoes, 8'"
      ]
     },
     "execution_count": 9,
     "metadata": {},
     "output_type": "execute_result"
    }
   ],
   "source": [
    "\", \".join(lfeats['neg'][0])"
   ]
  },
  {
   "cell_type": "code",
   "execution_count": 10,
   "metadata": {},
   "outputs": [
    {
     "data": {
      "text/plain": [
       "{'plot': True,\n",
       " ':': True,\n",
       " 'two': True,\n",
       " 'teen': True,\n",
       " 'couples': True,\n",
       " 'go': True,\n",
       " 'to': True,\n",
       " 'a': True,\n",
       " 'church': True,\n",
       " 'party': True,\n",
       " ',': True,\n",
       " 'drink': True,\n",
       " 'and': True,\n",
       " 'then': True,\n",
       " 'drive': True,\n",
       " '.': True,\n",
       " 'they': True,\n",
       " 'get': True,\n",
       " 'into': True,\n",
       " 'an': True,\n",
       " 'accident': True,\n",
       " 'one': True,\n",
       " 'of': True,\n",
       " 'the': True,\n",
       " 'guys': True,\n",
       " 'dies': True,\n",
       " 'but': True,\n",
       " 'his': True,\n",
       " 'girlfriend': True,\n",
       " 'continues': True,\n",
       " 'see': True,\n",
       " 'him': True,\n",
       " 'in': True,\n",
       " 'her': True,\n",
       " 'life': True,\n",
       " 'has': True,\n",
       " 'nightmares': True,\n",
       " 'what': True,\n",
       " \"'\": True,\n",
       " 's': True,\n",
       " 'deal': True,\n",
       " '?': True,\n",
       " 'watch': True,\n",
       " 'movie': True,\n",
       " '\"': True,\n",
       " 'sorta': True,\n",
       " 'find': True,\n",
       " 'out': True,\n",
       " 'critique': True,\n",
       " 'mind': True,\n",
       " '-': True,\n",
       " 'fuck': True,\n",
       " 'for': True,\n",
       " 'generation': True,\n",
       " 'that': True,\n",
       " 'touches': True,\n",
       " 'on': True,\n",
       " 'very': True,\n",
       " 'cool': True,\n",
       " 'idea': True,\n",
       " 'presents': True,\n",
       " 'it': True,\n",
       " 'bad': True,\n",
       " 'package': True,\n",
       " 'which': True,\n",
       " 'is': True,\n",
       " 'makes': True,\n",
       " 'this': True,\n",
       " 'review': True,\n",
       " 'even': True,\n",
       " 'harder': True,\n",
       " 'write': True,\n",
       " 'since': True,\n",
       " 'i': True,\n",
       " 'generally': True,\n",
       " 'applaud': True,\n",
       " 'films': True,\n",
       " 'attempt': True,\n",
       " 'break': True,\n",
       " 'mold': True,\n",
       " 'mess': True,\n",
       " 'with': True,\n",
       " 'your': True,\n",
       " 'head': True,\n",
       " 'such': True,\n",
       " '(': True,\n",
       " 'lost': True,\n",
       " 'highway': True,\n",
       " '&': True,\n",
       " 'memento': True,\n",
       " ')': True,\n",
       " 'there': True,\n",
       " 'are': True,\n",
       " 'good': True,\n",
       " 'ways': True,\n",
       " 'making': True,\n",
       " 'all': True,\n",
       " 'types': True,\n",
       " 'these': True,\n",
       " 'folks': True,\n",
       " 'just': True,\n",
       " 'didn': True,\n",
       " 't': True,\n",
       " 'snag': True,\n",
       " 'correctly': True,\n",
       " 'seem': True,\n",
       " 'have': True,\n",
       " 'taken': True,\n",
       " 'pretty': True,\n",
       " 'neat': True,\n",
       " 'concept': True,\n",
       " 'executed': True,\n",
       " 'terribly': True,\n",
       " 'so': True,\n",
       " 'problems': True,\n",
       " 'well': True,\n",
       " 'its': True,\n",
       " 'main': True,\n",
       " 'problem': True,\n",
       " 'simply': True,\n",
       " 'too': True,\n",
       " 'jumbled': True,\n",
       " 'starts': True,\n",
       " 'off': True,\n",
       " 'normal': True,\n",
       " 'downshifts': True,\n",
       " 'fantasy': True,\n",
       " 'world': True,\n",
       " 'you': True,\n",
       " 'as': True,\n",
       " 'audience': True,\n",
       " 'member': True,\n",
       " 'no': True,\n",
       " 'going': True,\n",
       " 'dreams': True,\n",
       " 'characters': True,\n",
       " 'coming': True,\n",
       " 'back': True,\n",
       " 'from': True,\n",
       " 'dead': True,\n",
       " 'others': True,\n",
       " 'who': True,\n",
       " 'look': True,\n",
       " 'like': True,\n",
       " 'strange': True,\n",
       " 'apparitions': True,\n",
       " 'disappearances': True,\n",
       " 'looooot': True,\n",
       " 'chase': True,\n",
       " 'scenes': True,\n",
       " 'tons': True,\n",
       " 'weird': True,\n",
       " 'things': True,\n",
       " 'happen': True,\n",
       " 'most': True,\n",
       " 'not': True,\n",
       " 'explained': True,\n",
       " 'now': True,\n",
       " 'personally': True,\n",
       " 'don': True,\n",
       " 'trying': True,\n",
       " 'unravel': True,\n",
       " 'film': True,\n",
       " 'every': True,\n",
       " 'when': True,\n",
       " 'does': True,\n",
       " 'give': True,\n",
       " 'me': True,\n",
       " 'same': True,\n",
       " 'clue': True,\n",
       " 'over': True,\n",
       " 'again': True,\n",
       " 'kind': True,\n",
       " 'fed': True,\n",
       " 'up': True,\n",
       " 'after': True,\n",
       " 'while': True,\n",
       " 'biggest': True,\n",
       " 'obviously': True,\n",
       " 'got': True,\n",
       " 'big': True,\n",
       " 'secret': True,\n",
       " 'hide': True,\n",
       " 'seems': True,\n",
       " 'want': True,\n",
       " 'completely': True,\n",
       " 'until': True,\n",
       " 'final': True,\n",
       " 'five': True,\n",
       " 'minutes': True,\n",
       " 'do': True,\n",
       " 'make': True,\n",
       " 'entertaining': True,\n",
       " 'thrilling': True,\n",
       " 'or': True,\n",
       " 'engaging': True,\n",
       " 'meantime': True,\n",
       " 'really': True,\n",
       " 'sad': True,\n",
       " 'part': True,\n",
       " 'arrow': True,\n",
       " 'both': True,\n",
       " 'dig': True,\n",
       " 'flicks': True,\n",
       " 'we': True,\n",
       " 'actually': True,\n",
       " 'figured': True,\n",
       " 'by': True,\n",
       " 'half': True,\n",
       " 'way': True,\n",
       " 'point': True,\n",
       " 'strangeness': True,\n",
       " 'did': True,\n",
       " 'start': True,\n",
       " 'little': True,\n",
       " 'bit': True,\n",
       " 'sense': True,\n",
       " 'still': True,\n",
       " 'more': True,\n",
       " 'guess': True,\n",
       " 'bottom': True,\n",
       " 'line': True,\n",
       " 'movies': True,\n",
       " 'should': True,\n",
       " 'always': True,\n",
       " 'sure': True,\n",
       " 'before': True,\n",
       " 'given': True,\n",
       " 'password': True,\n",
       " 'enter': True,\n",
       " 'understanding': True,\n",
       " 'mean': True,\n",
       " 'showing': True,\n",
       " 'melissa': True,\n",
       " 'sagemiller': True,\n",
       " 'running': True,\n",
       " 'away': True,\n",
       " 'visions': True,\n",
       " 'about': True,\n",
       " '20': True,\n",
       " 'throughout': True,\n",
       " 'plain': True,\n",
       " 'lazy': True,\n",
       " '!': True,\n",
       " 'okay': True,\n",
       " 'people': True,\n",
       " 'chasing': True,\n",
       " 'know': True,\n",
       " 'need': True,\n",
       " 'how': True,\n",
       " 'giving': True,\n",
       " 'us': True,\n",
       " 'different': True,\n",
       " 'offering': True,\n",
       " 'further': True,\n",
       " 'insight': True,\n",
       " 'down': True,\n",
       " 'apparently': True,\n",
       " 'studio': True,\n",
       " 'took': True,\n",
       " 'director': True,\n",
       " 'chopped': True,\n",
       " 'themselves': True,\n",
       " 'shows': True,\n",
       " 'might': True,\n",
       " 've': True,\n",
       " 'been': True,\n",
       " 'decent': True,\n",
       " 'here': True,\n",
       " 'somewhere': True,\n",
       " 'suits': True,\n",
       " 'decided': True,\n",
       " 'turning': True,\n",
       " 'music': True,\n",
       " 'video': True,\n",
       " 'edge': True,\n",
       " 'would': True,\n",
       " 'actors': True,\n",
       " 'although': True,\n",
       " 'wes': True,\n",
       " 'bentley': True,\n",
       " 'seemed': True,\n",
       " 'be': True,\n",
       " 'playing': True,\n",
       " 'exact': True,\n",
       " 'character': True,\n",
       " 'he': True,\n",
       " 'american': True,\n",
       " 'beauty': True,\n",
       " 'only': True,\n",
       " 'new': True,\n",
       " 'neighborhood': True,\n",
       " 'my': True,\n",
       " 'kudos': True,\n",
       " 'holds': True,\n",
       " 'own': True,\n",
       " 'entire': True,\n",
       " 'feeling': True,\n",
       " 'unraveling': True,\n",
       " 'overall': True,\n",
       " 'doesn': True,\n",
       " 'stick': True,\n",
       " 'because': True,\n",
       " 'entertain': True,\n",
       " 'confusing': True,\n",
       " 'rarely': True,\n",
       " 'excites': True,\n",
       " 'feels': True,\n",
       " 'redundant': True,\n",
       " 'runtime': True,\n",
       " 'despite': True,\n",
       " 'ending': True,\n",
       " 'explanation': True,\n",
       " 'craziness': True,\n",
       " 'came': True,\n",
       " 'oh': True,\n",
       " 'horror': True,\n",
       " 'slasher': True,\n",
       " 'flick': True,\n",
       " 'packaged': True,\n",
       " 'someone': True,\n",
       " 'assuming': True,\n",
       " 'genre': True,\n",
       " 'hot': True,\n",
       " 'kids': True,\n",
       " 'also': True,\n",
       " 'wrapped': True,\n",
       " 'production': True,\n",
       " 'years': True,\n",
       " 'ago': True,\n",
       " 'sitting': True,\n",
       " 'shelves': True,\n",
       " 'ever': True,\n",
       " 'whatever': True,\n",
       " 'skip': True,\n",
       " 'where': True,\n",
       " 'joblo': True,\n",
       " 'nightmare': True,\n",
       " 'elm': True,\n",
       " 'street': True,\n",
       " '3': True,\n",
       " '7': True,\n",
       " '/': True,\n",
       " '10': True,\n",
       " 'blair': True,\n",
       " 'witch': True,\n",
       " '2': True,\n",
       " 'crow': True,\n",
       " '9': True,\n",
       " 'salvation': True,\n",
       " '4': True,\n",
       " 'stir': True,\n",
       " 'echoes': True,\n",
       " '8': True}"
      ]
     },
     "execution_count": 10,
     "metadata": {},
     "output_type": "execute_result"
    }
   ],
   "source": [
    "lfeats['neg'][0]"
   ]
  },
  {
   "cell_type": "code",
   "execution_count": 11,
   "metadata": {},
   "outputs": [],
   "source": [
    "from nltk.corpus import movie_reviews\n",
    "import random\n",
    "# category 별로 fileid를 추출하고, 해당 fileid에 대해 문서의 word tokenize된 결과를 가져와서 \n",
    "# documents 집합을 구성\n",
    "documents = [(list(movie_reviews.words(fileid)), category)\n",
    "              for category in movie_reviews.categories()\n",
    "              for fileid in movie_reviews.fileids(category)]\n",
    "random.shuffle(documents)"
   ]
  },
  {
   "cell_type": "code",
   "execution_count": 68,
   "metadata": {},
   "outputs": [
    {
     "name": "stdout",
     "output_type": "stream",
     "text": [
      "<FreqDist with 39768 samples and 1583820 outcomes>\n"
     ]
    }
   ],
   "source": [
    "print(all_words)"
   ]
  },
  {
   "cell_type": "code",
   "execution_count": 13,
   "metadata": {},
   "outputs": [
    {
     "name": "stdout",
     "output_type": "stream",
     "text": [
      "plot 1513\n",
      ": 3042\n",
      "two 1911\n",
      "teen 151\n",
      "couples 27\n",
      "go 1113\n",
      "to 31937\n",
      "a 38106\n",
      "church 69\n",
      "party 183\n"
     ]
    }
   ],
   "source": [
    "for word in list(all_words)[:10]:\n",
    "    print(word, all_words[word])"
   ]
  },
  {
   "cell_type": "code",
   "execution_count": 14,
   "metadata": {},
   "outputs": [
    {
     "name": "stdout",
     "output_type": "stream",
     "text": [
      ", 77717\n",
      "the 76529\n",
      ". 65876\n",
      "a 38106\n",
      "and 35576\n",
      "of 34123\n",
      "to 31937\n",
      "' 30585\n",
      "is 25195\n",
      "in 21822\n",
      "[',', 'the', '.', 'a', 'and', 'of', 'to', \"'\", 'is', 'in']\n"
     ]
    }
   ],
   "source": [
    "sorted_features = sorted(all_words, key=all_words.get, reverse=True)\n",
    "for word in sorted_features[:10]:\n",
    "    print(word, all_words[word])\n",
    "print(sorted_features[:10]) # 1~9등까지의 빈도수가 가장 높은 words "
   ]
  },
  {
   "cell_type": "code",
   "execution_count": 16,
   "metadata": {},
   "outputs": [
    {
     "name": "stdout",
     "output_type": "stream",
     "text": [
      "[',', 'the', '.', 'a', 'and', 'of', 'to', \"'\", 'is', 'in', 's', '\"', 'it', 'that', '-', ')', '(', 'as', 'with', 'for', 'his', 'this', 'film', 'i', 'he', 'but', 'on', 'are', 't', 'by', 'be', 'one', 'movie', 'an', 'who', 'not', 'you', 'from', 'at', 'was', 'have', 'they', 'has', 'her', 'all', '?', 'there', 'like', 'so', 'out', 'about', 'up', 'more', 'what', 'when', 'which', 'or', 'she', 'their', ':', 'some', 'just', 'can', 'if', 'we', 'him', 'into', 'even', 'only', 'than', 'no', 'good', 'time', 'most', 'its', 'will', 'story', 'would', 'been', 'much', 'character', 'also', 'get', 'other', 'do', 'two', 'well', 'them', 'very', 'characters', ';', 'first', '--', 'after', 'see', '!', 'way', 'because', 'make', 'life']\n"
     ]
    }
   ],
   "source": [
    "word_features = sorted_features[:2000] #빈도가 높은 상위 2000개의 단어만 추출하여 features를 구성\n",
    "\n",
    "print(word_features[:100]) # 그 중에서 상위 100개 "
   ]
  },
  {
   "cell_type": "code",
   "execution_count": 17,
   "metadata": {},
   "outputs": [],
   "source": [
    "#주어진 document를 feature로 변환하는 함수, word_features를 사용\n",
    "def document_features(document, word_features):\n",
    "    document_words = set(document)\n",
    "    features = {}\n",
    "    for word in word_features:\n",
    "        features[word] = (word in document_words) #2000개의 단어에 대해 True, False로 입력\n",
    "    return features\n",
    "\n",
    "# 함수식을 이용해 주어진 document를 \"00\" = True or False로 나타내는 dic으로 변환"
   ]
  },
  {
   "cell_type": "code",
   "execution_count": 18,
   "metadata": {},
   "outputs": [],
   "source": [
    "#위에서 만든 documents 집합에 대해 feature set을 생성\n",
    "featuresets = [(document_features(d, word_features), c) for (d,c) in documents]"
   ]
  },
  {
   "cell_type": "code",
   "execution_count": 19,
   "metadata": {},
   "outputs": [
    {
     "name": "stdout",
     "output_type": "stream",
     "text": [
      "2000\n",
      "neg\n",
      "{',': True, 'the': True, '.': True, 'a': True, 'and': True, 'of': True, 'to': True, \"'\": True, 'is': True, 'in': True, 's': True, '\"': False, 'it': True, 'that': True, '-': True, ')': True, '(': True, 'as': True, 'with': True, 'for': True, 'his': True, 'this': True, 'film': True, 'i': True, 'he': True, 'but': True, 'on': True, 'are': True, 't': False, 'by': True, 'be': True, 'one': True, 'movie': False, 'an': True, 'who': True, 'not': True, 'you': False, 'from': True, 'at': True, 'was': True, 'have': True, 'they': True, 'has': True, 'her': True, 'all': True, '?': True, 'there': True, 'like': False, 'so': True, 'out': True, 'about': False, 'up': True, 'more': False, 'what': False, 'when': True, 'which': False, 'or': True, 'she': False, 'their': True, ':': True, 'some': True, 'just': True, 'can': False, 'if': True, 'we': False, 'him': False, 'into': True, 'even': False, 'only': True, 'than': False, 'no': False, 'good': False, 'time': False, 'most': True, 'its': True, 'will': True, 'story': True, 'would': False, 'been': False, 'much': False, 'character': False, 'also': True, 'get': True, 'other': True, 'do': True, 'two': True, 'well': False, 'them': True, 'very': False, 'characters': True, ';': True, 'first': False, '--': False, 'after': False, 'see': False, '!': False, 'way': True, 'because': True, 'make': True, 'life': False, 'off': True, 'too': False, 'any': False, 'does': False, 'really': True, 'had': False, 'while': False, 'films': True, 'how': True, 'plot': True, 'little': False, 'where': True, 'people': False, 'over': True, 'could': True, 'then': True, 'me': True, 'scene': False, 'man': False, 'bad': False, 'my': True, 'never': False, 'being': False, 'best': False, 'these': True, 'don': False, 'new': False, 'doesn': False, 'scenes': True, 'many': False, 'director': True, 'such': False, 'know': False, 'were': True, 'movies': False, 'through': False, 'here': True, 'action': True, 'great': False, 're': False, 'another': False, 'love': True, 'go': True, 'made': False, 'us': False, 'big': False, 'end': False, 'something': False, 'back': False, '*': False, 'still': False, 'world': False, 'seems': False, 'work': False, 'those': False, 'makes': False, 'now': False, 'before': True, 'however': False, 'between': False, 'few': True, '/': True, 'down': True, 'every': False, 'though': True, 'better': False, 'real': True, 'audience': False, 'enough': False, 'seen': True, 'take': True, 'around': False, 'both': False, 'going': False, 'year': True, 'performance': False, 'why': False, 'should': False, 'role': False, 'isn': False, 'same': False, 'old': True, 'gets': False, 'your': False, 'may': False, 'things': False, 'think': False, 'years': False, 'last': False, 'comedy': True, 'funny': True, 'actually': False, 've': False, 'long': False, 'look': False, 'almost': False, 'own': False, 'thing': False, 'fact': False, 'nothing': True, 'say': False, 'right': False, 'john': False, 'although': False, 'played': False, 'find': False, 'script': True, 'come': False, 'ever': True, 'cast': True, 'since': True, 'did': True, 'star': False, 'plays': False, 'young': False, 'show': False, 'comes': False, 'm': False, 'part': False, 'original': False, 'actors': False, 'screen': False, 'without': False, 'again': False, 'acting': False, 'three': False, 'day': False, 'each': False, 'point': False, 'lot': False, 'least': False, 'takes': False, 'guy': False, 'quite': False, 'himself': False, 'away': False, 'during': False, 'family': True, 'effects': True, 'course': False, 'goes': True, 'minutes': False, 'interesting': False, 'might': False, 'far': True, 'high': False, 'rather': False, 'once': False, 'must': False, 'anything': False, 'place': True, 'set': False, 'yet': False, 'watch': False, 'd': False, 'making': False, 'our': False, 'wife': True, 'hard': False, 'always': False, 'fun': True, 'didn': False, 'll': True, 'seem': False, 'special': True, 'bit': False, 'times': False, 'trying': False, 'hollywood': False, 'instead': False, 'give': True, 'want': False, 'picture': False, 'kind': False, 'american': False, 'job': False, 'sense': False, 'woman': False, 'home': True, 'having': False, 'series': False, 'actor': False, 'probably': False, 'help': False, 'half': False, 'along': False, 'men': False, 'everything': False, 'pretty': False, 'becomes': True, 'sure': False, 'black': False, 'together': False, 'dialogue': False, 'money': False, 'become': True, 'gives': False, 'given': False, 'looking': False, 'whole': False, 'watching': False, 'father': True, '`': False, 'feel': False, 'everyone': False, 'music': False, 'wants': False, 'sex': True, 'less': False, 'done': True, 'horror': True, 'got': False, 'death': False, 'perhaps': False, 'city': False, 'next': False, 'especially': False, 'play': True, 'girl': False, 'mind': False, '10': False, 'moments': True, 'looks': False, 'completely': False, '2': False, 'reason': False, 'mother': False, 'whose': False, 'line': False, 'night': False, 'human': False, 'until': False, 'rest': False, 'performances': False, 'different': False, 'evil': False, 'small': True, 'james': False, 'simply': True, 'couple': False, 'put': False, 'let': False, 'anyone': False, 'ending': False, 'case': False, 'several': False, 'dead': False, 'michael': True, 'left': False, 'thought': False, 'school': False, 'shows': False, 'humor': False, 'true': False, 'lost': True, 'written': False, 'itself': False, 'friend': False, 'entire': False, 'getting': False, 'town': True, 'turns': True, 'soon': False, 'someone': False, 'second': False, 'main': False, 'stars': False, 'found': False, 'use': False, 'problem': False, 'friends': False, 'tv': True, 'top': True, 'name': False, 'begins': False, 'called': True, 'based': False, 'comic': False, 'david': False, 'head': False, 'else': False, 'idea': False, 'either': False, 'wrong': False, 'unfortunately': False, 'later': False, 'final': False, 'hand': False, 'alien': False, 'house': True, 'group': False, 'full': False, 'used': False, 'tries': False, 'often': False, 'against': False, 'war': False, 'sequence': False, 'keep': True, 'turn': True, 'playing': False, 'boy': False, 'behind': False, 'named': False, 'certainly': False, 'live': False, 'believe': False, 'under': False, 'works': False, 'relationship': False, 'face': False, 'hour': False, 'run': False, 'style': True, 'said': False, 'despite': False, 'person': False, 'finally': False, 'shot': False, 'book': False, 'doing': False, 'tell': False, 'maybe': False, 'nice': False, 'son': False, 'perfect': False, 'side': False, 'seeing': False, 'able': False, 'finds': False, 'children': False, 'days': False, 'past': False, 'summer': False, 'camera': False, 'won': False, 'including': False, 'mr': False, 'kids': False, 'lives': False, 'directed': False, 'moment': False, 'game': False, 'running': False, 'fight': True, 'supposed': False, 'video': False, 'car': True, 'matter': False, 'kevin': False, 'joe': False, 'lines': False, 'worth': False, '=': False, 'daughter': True, 'earth': False, 'starts': False, 'need': False, 'entertaining': False, 'white': False, 'start': False, 'writer': False, 'dark': False, 'short': False, 'self': False, 'worst': False, 'nearly': False, 'opening': False, 'try': False, 'upon': False, 'care': False, 'early': False, 'violence': False, 'throughout': False, 'team': False, 'production': False, 'example': False, 'beautiful': False, 'title': True, 'exactly': False, 'jack': False, 'review': False, 'major': False, 'drama': False, '&': False, 'problems': False, 'sequences': False, 'obvious': False, 'version': False, 'screenplay': False, 'known': False, 'killer': True, 'wasn': False, 'robert': True, 'disney': False, 'already': False, 'close': False, 'classic': False, 'others': False, 'hit': False, 'kill': True, 'deep': False, 'five': False, 'order': False, 'act': False, 'simple': False, 'fine': False, 'themselves': False, 'heart': False, 'roles': False, 'jackie': False, 'direction': False, 'eyes': False, 'four': False, 'question': False, 'sort': False, 'sometimes': False, 'knows': False, 'supporting': False, 'coming': True, 'voice': False, 'women': False, 'truly': False, 'save': False, 'jokes': False, 'computer': False, 'child': False, 'o': False, 'boring': False, 'tom': True, 'level': False, '1': False, 'body': False, 'guys': False, 'genre': False, 'brother': True, 'strong': False, 'stop': False, 'room': False, 'space': False, 'lee': False, 'ends': False, 'beginning': False, 'ship': False, 'york': False, 'attempt': False, 'thriller': False, 'scream': False, 'peter': False, 'aren': False, 'husband': False, 'fiction': False, 'happens': True, 'hero': False, 'novel': True, 'note': False, 'hope': False, 'king': False, 'yes': False, 'says': True, 'tells': False, 'quickly': False, 'romantic': False, 'dog': False, 'oscar': False, 'stupid': False, 'possible': True, 'saw': False, 'lead': False, 'career': False, 'murder': False, 'extremely': False, 'manages': False, 'god': False, 'mostly': False, 'wonder': False, 'particularly': False, 'future': False, 'fans': False, 'sound': False, 'worse': False, 'piece': False, 'involving': True, 'de': False, 'appears': False, 'planet': False, 'paul': False, 'involved': False, 'mean': False, 'none': False, 'taking': False, 'hours': False, 'laugh': False, 'police': False, 'sets': False, 'attention': False, 'co': False, 'hell': False, 'eventually': False, 'single': False, 'fall': False, 'falls': False, 'material': False, 'emotional': False, 'power': False, 'late': False, 'lack': False, 'dr': False, 'van': False, 'result': False, 'elements': False, 'meet': True, 'smith': False, 'science': False, 'experience': False, 'bring': False, 'wild': False, 'living': False, 'theater': False, 'interest': False, 'leads': False, 'word': False, 'feature': False, 'battle': False, 'girls': False, 'alone': False, 'obviously': False, 'george': True, 'within': False, 'usually': False, 'enjoy': False, 'guess': False, 'among': False, 'taken': True, 'feeling': False, 'laughs': False, 'aliens': False, 'talk': False, 'chance': True, 'talent': False, '3': False, 'middle': True, 'number': True, 'easy': True, 'across': True, 'needs': False, 'attempts': False, 'happen': False, 'television': False, 'chris': False, 'deal': False, 'poor': False, 'form': False, 'girlfriend': False, 'viewer': False, 'release': False, 'killed': True, 'forced': False, 'whether': False, 'wonderful': False, 'feels': False, 'oh': False, 'tale': False, 'serious': False, 'expect': False, 'except': False, 'light': False, 'success': False, 'features': False, 'premise': False, 'happy': False, 'words': False, 'leave': False, 'important': False, 'meets': False, 'history': False, 'giving': False, 'crew': False, 'type': False, 'call': False, 'turned': False, 'released': False, 'parents': False, 'art': False, 'impressive': False, 'mission': False, 'working': False, 'seemed': False, 'score': False, 'told': False, 'recent': False, 'robin': False, 'basically': False, 'entertainment': False, 'america': False, '$': False, 'surprise': False, 'apparently': False, 'easily': False, 'ryan': False, 'cool': False, 'stuff': False, 'cop': False, 'change': False, 'williams': False, 'crime': False, 'office': False, 'parts': False, 'somehow': False, 'sequel': False, 'william': False, 'cut': False, 'die': False, 'jones': False, 'credits': False, 'batman': False, 'suspense': False, 'brings': False, 'events': False, 'reality': False, 'whom': False, 'local': False, 'talking': False, 'difficult': False, 'using': False, 'went': False, 'writing': False, 'remember': False, 'near': False, 'straight': False, 'hilarious': False, 'ago': False, 'certain': False, 'ben': False, 'kid': False, 'wouldn': False, 'slow': False, 'blood': True, 'mystery': False, 'complete': False, 'red': False, 'popular': False, 'effective': False, 'am': False, 'fast': False, 'flick': False, 'due': False, 'runs': False, 'gone': False, 'return': False, 'presence': False, 'quality': False, 'dramatic': False, 'filmmakers': False, 'age': False, 'brothers': True, 'business': False, 'general': False, 'rock': False, 'sexual': False, 'present': False, 'surprisingly': False, 'anyway': False, 'uses': False, '4': False, 'personal': False, 'figure': False, 'smart': False, 'ways': True, 'decides': False, 'annoying': False, 'begin': False, 'couldn': False, 'somewhat': False, 'shots': False, 'rich': False, 'minute': False, 'law': False, 'previous': False, 'jim': False, 'successful': False, 'harry': False, 'water': False, 'similar': False, 'absolutely': False, 'motion': False, 'former': False, 'strange': False, 'came': False, 'follow': False, 'read': False, 'project': False, 'million': False, 'secret': False, 'starring': False, 'clear': False, 'familiar': False, 'romance': False, 'intelligent': False, 'third': False, 'excellent': False, 'amazing': False, 'party': False, 'budget': False, 'eye': True, 'actress': False, 'prison': False, 'latest': False, 'means': False, 'company': False, 'towards': False, 'predictable': False, 'powerful': False, 'nor': False, 'bob': False, 'beyond': False, 'visual': False, 'leaves': False, 'r': False, 'nature': False, 'following': False, 'villain': False, 'leaving': False, 'animated': False, 'low': False, 'myself': False, 'b': True, 'bill': False, 'sam': False, 'filled': False, 'wars': False, 'questions': False, 'cinema': False, 'message': False, 'box': False, 'moving': False, 'herself': False, 'country': False, 'usual': False, 'martin': False, 'definitely': False, 'add': False, 'large': False, 'clever': True, 'create': False, 'felt': False, 'stories': False, 'brilliant': False, 'ones': False, 'giant': False, 'situation': False, 'murphy': False, 'break': False, 'opens': False, 'scary': False, 'doubt': False, 'drug': False, 'bunch': False, 'thinking': False, 'solid': False, 'effect': False, 'learn': False, 'move': False, 'force': False, 'potential': False, 'seriously': False, 'follows': False, 'above': False, 'saying': False, 'huge': False, 'class': False, 'plan': True, 'agent': False, 'created': False, 'unlike': False, 'pay': False, 'non': False, 'married': False, 'mark': True, 'sweet': False, 'perfectly': False, 'ex': False, 'realize': False, 'audiences': False, 'took': False, 'decent': False, 'likely': False, 'dream': False, 'view': False, 'scott': True, 'subject': False, 'understand': False, 'happened': False, 'enjoyable': False, 'studio': False, 'immediately': False, 'open': True, 'e': False, 'points': False, 'heard': False, 'viewers': False, 'cameron': False, 'truman': False, 'bruce': False, 'frank': False, 'private': False, 'stay': False, 'fails': False, 'impossible': False, 'cold': False, 'richard': False, 'overall': False, 'merely': False, 'exciting': False, 'mess': False, 'chase': False, 'free': False, 'ten': False, 'neither': False, 'wanted': False, 'gun': True, 'appear': False, 'carter': False, 'escape': True, 'ultimately': False, '+': False, 'fan': False, 'inside': False, 'favorite': False, 'haven': False, 'modern': False, 'l': False, 'wedding': False, 'stone': False, 'trek': False, 'brought': False, 'trouble': False, 'otherwise': False, 'tim': False, '5': False, 'allen': False, 'bond': False, 'society': False, 'liked': False, 'dumb': False, 'musical': False, 'stand': False, 'political': False, 'various': False, 'talented': False, 'particular': False, 'west': False, 'state': False, 'keeps': False, 'english': False, 'silly': False, 'u': False, 'situations': False, 'park': False, 'teen': False, 'rating': False, 'slightly': False, 'steve': False, 'truth': False, 'air': False, 'element': False, 'joke': False, 'spend': False, 'key': False, 'biggest': False, 'members': False, 'effort': False, 'government': False, 'focus': False, 'eddie': False, 'soundtrack': False, 'hands': False, 'earlier': False, 'chan': False, 'purpose': False, 'today': False, 'showing': False, 'memorable': False, 'six': False, 'cannot': False, 'max': False, 'offers': False, 'rated': False, 'mars': False, 'heavy': False, 'totally': False, 'control': False, 'credit': False, 'fi': False, 'woody': False, 'ideas': False, 'sci': False, 'wait': False, 'sit': False, 'female': False, 'ask': False, 'waste': False, 'terrible': False, 'depth': False, 'simon': False, 'aspect': False, 'list': False, 'mary': False, 'sister': False, 'animation': False, 'entirely': False, 'fear': False, 'steven': False, 'moves': False, 'actual': False, 'army': False, 'british': False, 'constantly': False, 'fire': False, 'convincing': False, 'setting': False, 'gave': False, 'tension': False, 'street': False, '8': False, 'brief': False, 'ridiculous': False, 'cinematography': False, 'typical': False, 'nick': False, 'screenwriter': False, 'ability': False, 'spent': True, 'quick': False, 'violent': True, 'atmosphere': False, 'subtle': False, 'expected': False, 'fairly': False, 'seven': False, 'killing': True, 'tone': False, 'master': False, 'disaster': False, 'lots': False, 'thinks': False, 'song': False, 'cheap': False, 'suddenly': False, 'background': False, 'club': False, 'willis': False, 'whatever': False, 'highly': False, 'sees': False, 'complex': False, 'greatest': False, 'impact': False, 'beauty': False, 'front': False, 'humans': False, 'indeed': False, 'flat': False, 'grace': False, 'wrote': False, 'amusing': False, 'ii': False, 'mike': False, 'further': False, 'cute': False, 'dull': False, 'minor': False, 'recently': False, 'hate': True, 'outside': False, 'plenty': False, 'wish': False, 'godzilla': False, 'college': False, 'titanic': False, 'sounds': False, 'telling': False, 'sight': False, 'double': False, 'cinematic': False, 'queen': False, 'hold': False, 'meanwhile': False, 'awful': False, 'clearly': False, 'theme': False, 'hear': False, 'x': False, 'amount': False, 'baby': False, 'approach': False, 'dreams': False, 'shown': False, 'island': False, 'reasons': False, 'charm': True, 'miss': False, 'longer': False, 'common': False, 'sean': False, 'carry': False, 'believable': False, 'realistic': False, 'chemistry': False, 'possibly': False, 'casting': False, 'carrey': False, 'french': False, 'trailer': False, 'tough': False, 'produced': False, 'imagine': False, 'choice': False, 'ride': False, 'somewhere': False, 'hot': False, 'race': False, 'road': True, 'leader': False, 'thin': False, 'jerry': False, 'slowly': False, 'delivers': False, 'detective': False, 'brown': False, 'jackson': False, 'member': False, 'provide': False, 'president': False, 'puts': False, 'asks': False, 'critics': False, 'appearance': False, 'famous': False, 'okay': False, 'intelligence': False, 'energy': False, 'sent': False, 'spielberg': False, 'development': False, 'etc': False, 'language': False, 'blue': False, 'proves': False, 'vampire': True, 'seemingly': False, 'basic': False, 'caught': False, 'decide': False, 'opportunity': False, 'incredibly': False, 'images': False, 'band': False, 'j': False, 'writers': False, 'knew': False, 'interested': False, 'considering': False, 'boys': False, 'thanks': False, 'remains': False, 'climax': False, 'event': False, 'directing': False, 'conclusion': False, 'leading': False, 'ground': False, 'lies': False, 'forget': True, 'alive': False, 'tarzan': False, 'century': False, 'provides': False, 'trip': False, 'partner': False, 'central': False, 'tarantino': True, 'period': False, 'pace': False, 'yourself': False, 'worked': False, 'ready': True, 'date': False, 'thus': True, '1998': False, 'terrific': False, 'write': False, 'average': False, 'onto': False, 'songs': False, 'occasionally': False, 'doctor': False, 'stands': False, 'hardly': False, 'monster': False, 'led': False, 'mysterious': False, 'details': False, 'wasted': False, 'apart': False, 'aside': False, 'store': True, 'billy': False, 'boss': False, 'travolta': False, 'producer': False, 'pull': False, 'consider': False, 'pictures': False, 'becoming': False, 'cage': False, 'loud': False, 'looked': False, 'officer': False, 'twenty': False, 'system': False, 'contains': False, 'julia': False, 'subplot': False, 'missing': False, 'personality': False, 'building': False, 'learns': False, 'hong': False, 'la': False, 'apartment': False, '7': False, 'bizarre': True, 'powers': False, 'flaws': False, 'catch': False, 'lawyer': False, 'shoot': False, 'student': False, 'unique': False, '000': False, 'admit': False, 'concept': False, 'needed': False, 'thrown': False, 'christopher': False, 'laughing': False, 'green': False, 'twists': False, 'matthew': False, 'touch': False, 'waiting': False, 'victim': False, 'cover': False, 'machine': True, 'danny': False, 'mention': False, 'search': False, '1997': False, 'win': False, 'door': False, 'manner': True, 'train': False, 'saving': False, 'share': False, 'image': False, 'discovers': False, 'normal': False, 'cross': False, 'fox': False, 'returns': False, 'adult': False, 'adds': False, 'answer': False, 'adventure': False, 'lame': False, 'male': False, 'odd': False, 'singer': False, 'deserves': False, 'gore': True, 'states': False, 'include': False, 'equally': False, 'months': False, 'barely': False, 'directors': False, 'introduced': False, 'fashion': False, 'social': False, '1999': False, 'news': True, 'hair': False, 'dance': False, 'innocent': True, 'camp': False, 'teacher': False, 'became': False, 'sad': False, 'witch': False, 'includes': False, 'nights': False, 'jason': False, 'julie': False, 'latter': False, 'food': False, 'jennifer': False, 'land': False, 'menace': False, 'rate': False, 'storyline': False, 'contact': False, 'jean': False, 'elizabeth': False, 'fellow': False, 'changes': False, 'henry': False, 'hill': False, 'pulp': False, 'gay': False, 'tried': False, 'surprised': False, 'literally': False, 'walk': False, 'standard': False, '90': False, 'forward': False, 'wise': False, 'enjoyed': False, 'discover': False, 'pop': False, 'anderson': False, 'offer': False, 'recommend': False, 'public': False, 'drive': False, 'c': False, 'toy': False, 'charming': False, 'fair': False, 'chinese': True, 'rescue': False, 'terms': False, 'mouth': False, 'lucas': False, 'accident': True, 'dies': False, 'decided': False, 'edge': False, 'footage': False, 'culture': False, 'weak': False, 'presented': False, 'blade': False, 'younger': False, 'douglas': False, 'natural': False, 'born': False, 'generally': False, 'teenage': False, 'older': True, 'horrible': False, 'addition': False, 'sadly': False, 'creates': False, 'disturbing': False, 'roger': False, 'detail': False, 'devil': False, 'debut': False, 'track': False, 'developed': False, 'week': False, 'russell': False, 'attack': False, 'explain': False, 'rarely': False, 'fully': False, 'prove': False, 'exception': False, 'jeff': False, 'twist': False, 'gang': False, 'winning': False, 'jr': False, 'species': False, 'issues': False, 'fresh': False, 'rules': False, 'meaning': False, 'inspired': False, 'heroes': False, 'desperate': False, 'fighting': False, 'filmed': False, 'faces': False, 'alan': False, 'bright': False, 'ass': False, 'flying': False, 'kong': False, 'rush': False, 'forces': False, 'charles': False, 'numerous': False, 'emotions': False, 'involves': True, 'patrick': False, 'weird': False, 'apparent': False, 'information': False, 'revenge': False, 'jay': False, 'toward': False, 'surprising': False, 'twice': False, 'editing': False, 'calls': False, 'lose': False, 'vegas': False, 'stage': False, 'intended': False, 'gags': False, 'opinion': False, 'likes': False, 'crazy': False, 'owner': False, 'places': False, 'pair': False, 'genuine': False, 'epic': False, 'speak': False, 'throw': True, 'appeal': False, 'gibson': False, 'captain': False, 'military': False, '20': True, 'blair': False, 'nowhere': False, 'length': False, 'nicely': False, 'cause': False, 'pass': True, 'episode': False, 'kiss': False, 'arnold': False, 'please': False, 'hasn': False, 'phone': False, 'filmmaking': False, 'formula': False, 'boyfriend': False, 'talents': False, 'creating': False, 'kelly': False, 'buy': False, 'wide': False, 'fantasy': False, 'mood': False, 'heads': False, 'pathetic': False, 'lacks': False, 'loved': False, 'asked': False, 'mrs': False, 'witty': False, 'shakespeare': False, 'mulan': False, 'generation': False, 'affair': False, 'pieces': False, 'task': False, 'rare': False, 'kept': False, 'cameo': False, 'fascinating': False, 'ed': False, 'fbi': False, 'burton': False, 'incredible': False, 'accent': False, 'artist': False, 'superior': False, 'academy': False, 'thomas': False, 'spirit': False, 'technical': False, 'confusing': False, 'poorly': False, 'target': False, 'lover': False, 'woo': False, 'mentioned': False, 'theaters': False, 'plane': False, 'confused': False, 'dennis': True, 'rob': False, 'appropriate': False, 'christmas': False, 'considered': False, 'legend': False, 'shame': False, 'soul': False, 'matt': False, 'campbell': False, 'process': False, 'bottom': False, 'sitting': False, 'brain': False, 'creepy': False, '13': False, 'forever': False, 'dude': False, 'crap': False, 'superb': False, 'speech': False, 'ice': False, 'journey': False, 'masterpiece': False, 'intriguing': False, 'names': False, 'pick': False, 'speaking': False, 'virtually': False, 'award': False, 'worthy': False, 'marriage': False, 'deliver': False, 'cash': False, 'magic': False, 'respect': False, 'product': False, 'necessary': False, 'suppose': False, 'silent': False, 'pointless': False, 'station': False, 'affleck': False, 'dimensional': False, 'charlie': False, 'allows': False, 'avoid': False, 'meant': False, 'cops': True, 'attitude': False, 'relationships': False, 'hits': False, 'stephen': False, 'spends': False, 'relief': False, 'physical': False, 'count': False, 'reviews': False, 'appreciate': False, 'cliches': False, 'holds': False, 'pure': False, 'plans': False, 'limited': False, 'failed': False, 'pain': False, 'impression': False, 'unless': False, 'sub': False, '[': False, 'total': False, 'creature': False, 'viewing': False, 'loves': False, 'princess': False, 'kate': True, 'rising': False, 'woods': False, 'baldwin': False, 'angry': False, 'drawn': False, 'step': False, 'matrix': False, 'themes': False, 'satire': False, 'arts': False, ']': False, 'remake': False, 'wall': False, 'moral': False, 'color': False, 'ray': False, 'stuck': False, 'touching': False, 'wit': False, 'tony': False, 'hanks': False, 'continues': False, 'damn': False, 'nobody': False, 'cartoon': False, 'keeping': False, 'realized': False, 'criminal': False, 'unfunny': False, 'comedic': False, 'martial': False, 'disappointing': False, 'anti': False, 'graphic': False, 'stunning': False, 'actions': False, 'floor': False, 'emotion': False, 'soldiers': False, 'edward': False, 'comedies': False, 'driver': False, 'expectations': False, 'added': False, 'mad': False, 'angels': False, 'shallow': False, 'suspect': False, 'humorous': False, 'phantom': False, 'appealing': False, 'device': False, 'design': False, 'industry': False, 'reach': False, 'fat': False, 'blame': False, 'united': False, 'sign': False, 'portrayal': False, 'rocky': False, 'finale': False, 'grand': False, 'opposite': False, 'hotel': False, 'match': False, 'damme': False, 'speed': False, 'ok': False, 'loving': False, 'field': False, 'larry': False, 'urban': False, 'troopers': False, 'compared': False, 'apes': False, 'rose': False, 'falling': False, 'era': False, 'loses': False, 'adults': False, 'managed': False, 'dad': False, 'therefore': False, 'pg': False, 'results': False, 'guns': False, 'radio': False, 'lady': False, 'manage': False, 'spice': False, 'naked': False, 'started': False, 'intense': False, 'humanity': False, 'wonderfully': False, 'slasher': False, 'bland': False, 'imagination': False, 'walking': False, 'willing': False, 'horse': False, 'rent': False, 'mix': False, 'generated': False, 'g': False, 'utterly': False, 'scientist': False, 'washington': False, 'notice': False, 'players': False, 'teenagers': False, 'moore': False, 'board': False, 'price': False, 'frightening': False, 'tommy': False, 'spectacular': False, 'bored': False, 'jane': False, 'join': False, 'producers': False, 'johnny': False, 'zero': False, 'vampires': True, 'adaptation': False, 'dollars': False, 'parody': True, 'documentary': False, 'dvd': False, 'wayne': False, 'post': False, 'exist': False, 'matters': False, 'chosen': False, 'mel': False, 'attractive': False, 'plain': False, 'trust': False, 'safe': False, 'reading': False, 'hoping': False, 'protagonist': False, 'feelings': False, 'fate': False, 'finding': True, 'feet': False, 'visuals': False, 'spawn': False, 'compelling': False, 'hall': False, 'sympathetic': False, 'featuring': False, 'difference': False, 'professional': True, 'drugs': False, 'ford': False, 'shooting': False, 'gold': False, 'patch': False, 'build': False, 'boat': False, 'cruise': False, 'honest': False, 'media': False, 'flicks': False, 'bug': False, 'bringing': False, 'dangerous': False, 'watched': False, 'grant': False, 'smile': False, 'plus': False, 'shouldn': False, 'decision': False, 'visually': False, 'allow': False, 'starship': False, 'roberts': False, 'dying': False, 'portrayed': False, 'turning': True, 'believes': False, 'changed': False, 'shock': False, 'destroy': False, '30': False, 'crowd': True, 'broken': False, 'tired': False, 'fail': False, 'south': False, 'died': True, 'cult': True, 'fake': False, 'vincent': False, 'identity': False, 'sexy': True, 'hunt': False, 'jedi': False, 'flynt': False, 'alex': False, 'engaging': False, 'serve': False, 'snake': False, 'yeah': False, 'expecting': False, '100': False, 'decade': False, 'ups': False, 'constant': False, 'current': False, 'survive': False, 'jimmy': False, 'buddy': False, 'send': False, 'brooks': False, 'goofy': False, 'likable': False, 'humour': False, 'technology': False, 'files': False, 'babe': False, 'aspects': False, 'presents': False, 'kills': True, 'supposedly': True, 'eight': False, 'sandler': False, 'hospital': False, 'test': False, 'hidden': False, 'brian': False, 'books': False, 'promise': False, 'determined': False, 'professor': False, 'welcome': False, 'pleasure': True, 'succeeds': False, 'individual': False, 'annie': False, 'mob': False, 'ted': False, 'virus': False, 'content': False, 'gary': False, 'direct': False, 'contrived': False, 'carpenter': False, 'scale': False, 'sick': False, 'nasty': False, 'conflict': False, 'haunting': False, 'ghost': False, 'filmmaker': False, 'japanese': False, 'helps': False, 'fare': False, 'lucky': False, 'ultimate': False, 'window': True, 'support': False, 'goal': False, 'provided': False, 'genius': False, 'winner': False, 'taylor': False, 'fantastic': False, 'faith': True, 'lynch': False, 'fit': False, 'catherine': False, 'ms': False, 'paced': False, 'breaks': False, 'al': False, 'frame': False, 'travel': False, 'badly': False, 'available': False, 'cares': False, 'reeves': False, 'crash': False, 'driving': False, 'press': False, 'seagal': False, 'amy': False, '9': False, 'headed': False, 'instance': False, 'excuse': False, 'offensive': False, 'narrative': False, 'fault': False, 'bus': False, 'f': False, 'extreme': False, 'miller': False, 'guilty': False, 'grows': False, 'overly': False, 'liners': False, 'forgotten': False, 'ahead': False, 'accept': False, 'porn': False, 'directly': False, 'helen': False, 'began': False, 'lord': False, 'folks': False, 'mediocre': False, 'bar': True, 'surface': False, 'super': False, 'failure': False, '6': False, 'acted': False, 'quiet': False, 'laughable': False, 'sheer': False, 'security': False, 'emotionally': False, 'season': False, 'stuart': False, 'jail': True, 'deals': False, 'cheesy': False, 'court': False, 'beach': False, 'austin': False, 'model': False, 'outstanding': False, 'substance': False, 'nudity': False, 'slapstick': False, 'joan': False, 'reveal': False, 'placed': False, 'check': False, 'beast': False, 'hurt': False, 'bloody': False, 'acts': False, 'fame': False, 'meeting': False, 'nuclear': False, '1996': True, 'strength': False, 'center': False, 'funniest': False, 'standing': False, 'damon': False, 'clich': True, 'position': False, 'desire': False, 'driven': False, 'seat': False, 'stock': False, 'wondering': False, 'realizes': False, 'dealing': False, 'taste': False, 'routine': False, 'comparison': False, 'cinematographer': True, 'seconds': False, 'singing': False, 'gangster': False, 'responsible': False, 'football': False, 'remarkable': False, 'hunting': False, 'adams': False, 'fly': False, 'suspects': False, 'treat': False, 'hopes': False, 'heaven': False, 'myers': False, 'struggle': False, 'costumes': False, 'beat': False, 'happening': False, 'skills': False, 'ugly': False, 'figures': False, 'thoroughly': False, 'ill': False, 'surprises': False, 'player': False, 'rival': False, 'guard': True, 'anthony': False, 'strike': False, 'community': False, 'streets': False, 'hopkins': False, 'ended': False, 'originally': False, 'sarah': False, 'creative': False, 'characterization': False, 'thankfully': False, 'growing': False, 'sharp': False, 'williamson': True, 'eccentric': False, 'explained': True, 'hey': False, 'claire': False, 'steal': False, 'inevitable': False, 'joel': False, 'core': False, 'weren': False, 'sorry': False, 'built': False, 'anne': False, 'breaking': False, 'villains': False, 'critic': False, 'lets': False, 'visit': False, 'followed': False}\n"
     ]
    }
   ],
   "source": [
    "print(len(featuresets[0][0])) #첫째 feature set의 첫째 element 즉 bag_of_words feature의 수 - 상위 2000개 단어\n",
    "print(featuresets[0][1]) #첫째 feature set의 둘째 element 즉 label\n",
    "print(featuresets[0][0]) # 첫째 feature set의 내용\n"
   ]
  },
  {
   "cell_type": "code",
   "execution_count": 20,
   "metadata": {},
   "outputs": [],
   "source": [
    "# 주어진 문서의 label이 'neg'인지, 'pos'인지를 판단하는 분류기를 학습"
   ]
  },
  {
   "cell_type": "code",
   "execution_count": 21,
   "metadata": {},
   "outputs": [
    {
     "name": "stdout",
     "output_type": "stream",
     "text": [
      "0.82\n",
      "Most Informative Features\n",
      "             outstanding = True              pos : neg    =     10.8 : 1.0\n",
      "                  seagal = True              neg : pos    =      7.8 : 1.0\n",
      "                   mulan = True              pos : neg    =      7.0 : 1.0\n",
      "             wonderfully = True              pos : neg    =      6.9 : 1.0\n",
      "                  wasted = True              neg : pos    =      6.2 : 1.0\n"
     ]
    }
   ],
   "source": [
    "train_set, test_set = featuresets[100:], featuresets[:100] #train set과 test set으로 분리\n",
    "\n",
    "classifier = nltk.NaiveBayesClassifier.train(train_set) # train set으로 학습\n",
    "print(nltk.classify.accuracy(classifier, test_set)) # test set으로 분류기 성능을 평가\n",
    "classifier.show_most_informative_features(5) #분류기에서 가장 중요한 영향을 미치는 상위 5개 요소 "
   ]
  },
  {
   "cell_type": "code",
   "execution_count": 22,
   "metadata": {},
   "outputs": [
    {
     "name": "stdout",
     "output_type": "stream",
     "text": [
      "neg\n",
      "pos\n",
      "neg\n",
      "pos\n"
     ]
    }
   ],
   "source": [
    "testfeat = bag_of_words(['the', 'actor', 'was', 'seagal']) \n",
    "print(classifier.classify(testfeat))\n",
    "testfeat = bag_of_words(['the', 'story', 'was', 'outstanding'])\n",
    "print(classifier.classify(testfeat))\n",
    "negfeat = bag_of_words(['the', 'plot', 'was', 'ludicrous']) # 터무니없는\n",
    "print(classifier.classify(negfeat))\n",
    "posfeat = bag_of_words(['kate', 'winslet', 'is', 'accessible']) # 이해가 돼!\n",
    "print(classifier.classify(posfeat))\n",
    "\n",
    "# 각 문장들이 부정적인지 긍정적인지 구분해준다."
   ]
  },
  {
   "cell_type": "code",
   "execution_count": 23,
   "metadata": {},
   "outputs": [],
   "source": [
    "# data 준비, 입력이 raw text임\n",
    "reviews = [movie_reviews.raw(fileid) for fileid in movie_reviews.fileids()]"
   ]
  },
  {
   "cell_type": "code",
   "execution_count": 24,
   "metadata": {},
   "outputs": [
    {
     "name": "stdout",
     "output_type": "stream",
     "text": [
      "CountVectorizer(analyzer='word', binary=False, decode_error='strict',\n",
      "                dtype=<class 'numpy.int64'>, encoding='utf-8', input='content',\n",
      "                lowercase=True, max_df=1.0, max_features=None, min_df=1,\n",
      "                ngram_range=(1, 1), preprocessor=None, stop_words=None,\n",
      "                strip_accents=None, token_pattern='(?u)\\\\b\\\\w\\\\w+\\\\b',\n",
      "                tokenizer=None,\n",
      "                vocabulary=[',', 'the', '.', 'a', 'and', 'of', 'to', \"'\", 'is',\n",
      "                            'in', 's', '\"', 'it', 'that', '-', ')', '(', 'as',\n",
      "                            'with', 'for', 'his', 'this', 'film', 'i', 'he',\n",
      "                            'but', 'on', 'are', 't', 'by', ...])\n"
     ]
    }
   ],
   "source": [
    "from sklearn.feature_extraction.text import CountVectorizer\n",
    "#cv = CountVectorizer()\n",
    "cv = CountVectorizer(vocabulary=word_features) #빈도수 상위 2,000개의 단어만 사용하여 count vector 객체를 생성\n",
    "print(cv) #객체 parameter들을 확인"
   ]
  },
  {
   "cell_type": "code",
   "execution_count": 25,
   "metadata": {},
   "outputs": [
    {
     "name": "stdout",
     "output_type": "stream",
     "text": [
      "reviews count: 2000\n"
     ]
    }
   ],
   "source": [
    "print('reviews count:', len(reviews)) # reviews의 수 : 2000개"
   ]
  },
  {
   "cell_type": "code",
   "execution_count": 26,
   "metadata": {},
   "outputs": [
    {
     "name": "stdout",
     "output_type": "stream",
     "text": [
      "[',', 'the', '.', 'a', 'and', 'of', 'to', \"'\", 'is', 'in', 's', '\"', 'it', 'that', '-', ')', '(', 'as', 'with', 'for', 'his', 'this', 'film', 'i', 'he', 'but', 'on', 'are', 't', 'by', 'be', 'one', 'movie', 'an', 'who', 'not', 'you', 'from', 'at', 'was', 'have', 'they', 'has', 'her', 'all', '?', 'there', 'like', 'so', 'out', 'about', 'up', 'more', 'what', 'when', 'which', 'or', 'she', 'their', ':', 'some', 'just', 'can', 'if', 'we', 'him', 'into', 'even', 'only', 'than', 'no', 'good', 'time', 'most', 'its', 'will', 'story', 'would', 'been', 'much', 'character', 'also', 'get', 'other', 'do', 'two', 'well', 'them', 'very', 'characters', ';', 'first', '--', 'after', 'see', '!', 'way', 'because', 'make', 'life']\n"
     ]
    }
   ],
   "source": [
    "X = cv.fit_transform(reviews) #review를 이용하여 count vector를 학습하고, 변환\n",
    "print(cv.get_feature_names()[:100]) # count vector에 사용된 feature 이름을 반환\n",
    "# 빈도수가 높은 순서대로 words를 반환"
   ]
  },
  {
   "cell_type": "code",
   "execution_count": 27,
   "metadata": {},
   "outputs": [
    {
     "name": "stdout",
     "output_type": "stream",
     "text": [
      "[ 0 38  0  0 20 16 16  0 12  8  0  0 25 13  0  0  0  1  5  4  1 10  6  0\n",
      "  1 10  4 13  0  2  1  3  6  3  3  3  3  4  0  0  2  5  3  4  6  0 10  3\n",
      "  3  3  2  2  2  4  1  4  2  0  0  0  0  4  0  0  4  1  5  3  1  0  1  2\n",
      "  0  4  4  0  0  1  2  0  2  1  3  0  2  2  1  0  2  1  0  0  0  2  2  0\n",
      "  3  2  5  1]\n",
      "38\n"
     ]
    }
   ],
   "source": [
    "print(X[0].toarray()[0, :100]) #변환된 결과의 첫째 feature set 중에서 앞 100개를 출력\n",
    "print(max(X[0].toarray()[0])) #변환된 결과의 첫째 feature set 중에서 max 값"
   ]
  },
  {
   "cell_type": "code",
   "execution_count": 28,
   "metadata": {
    "scrolled": false
   },
   "outputs": [
    {
     "name": "stdout",
     "output_type": "stream",
     "text": [
      ", : 0\n",
      "the : 38\n",
      ". : 0\n",
      "a : 0\n",
      "and : 20\n",
      "of : 16\n",
      "to : 16\n",
      "' : 0\n",
      "is : 12\n",
      "in : 8\n",
      "s : 0\n",
      "\" : 0\n",
      "it : 25\n",
      "that : 13\n",
      "- : 0\n",
      ") : 0\n",
      "( : 0\n",
      "as : 1\n",
      "with : 5\n",
      "for : 4\n"
     ]
    }
   ],
   "source": [
    "for word, count in zip(cv.get_feature_names()[:20], X[0].toarray()[0, :20]):\n",
    "    print(word, ':', count) # 각 단어별 빈도수를 나타냄. 이를 zip을 이용하여 합침."
   ]
  },
  {
   "cell_type": "code",
   "execution_count": 54,
   "metadata": {},
   "outputs": [
    {
     "data": {
      "image/png": "[encoded data removed]",
      "text/plain": [
       "<Figure size 432x288 with 1 Axes>"
      ]
     },
     "metadata": {
      "needs_background": "light"
     },
     "output_type": "display_data"
    }
   ],
   "source": [
    "%matplotlib inline\n",
    "import matplotlib.pyplot as plt\n",
    "import numpy as np\n",
    "x = np.arange(0,2*np.pi,0.1)   # start,stop,step\n",
    "y = np.cos(x)\n",
    "#print(x)\n",
    "plt.plot(x, y)\n",
    "plt.show()"
   ]
  },
  {
   "cell_type": "code",
   "execution_count": 71,
   "metadata": {
    "scrolled": true
   },
   "outputs": [],
   "source": [
    "from sklearn.metrics.pairwise import cosine_similarity\n",
    "\n",
    "new_review = \"first of all it's a plot heavy mess that has bad voice talents , badly written script and fantastic animation. they are small pokemon with a powerful punch and have great psychic abilities\"\n",
    "\n",
    "#여기서 부터 에러가 발생해서 당황.\n",
    "#sim_result = cosine_similarity(new_vec, X) #변환된 count vector와 기존 값들과의 similarity 계산\n"
   ]
  },
  {
   "cell_type": "code",
   "execution_count": 52,
   "metadata": {},
   "outputs": [
    {
     "name": "stdout",
     "output_type": "stream",
     "text": [
      "new_review count: 188\n"
     ]
    }
   ],
   "source": [
    "print('new_review count:', len(new_review))"
   ]
  },
  {
   "cell_type": "code",
   "execution_count": null,
   "metadata": {},
   "outputs": [],
   "source": [
    "# 여기서 더 나아가고 싶지만 시간 관계상 힘들고, 아직 실력이 부족하여\n",
    "# 다음에 시간이 나면 다시 실습해보도록 하겠습니다,"
   ]
  },
  {
   "cell_type": "markdown",
   "metadata": {},
   "source": [
    "## 2. 9주차 토픽모델링\n",
    "영화 리뷰 데이터를 이용하여 topic modeling을 학습"
   ]
  },
  {
   "cell_type": "markdown",
   "metadata": {},
   "source": [
    "토픽모델링은 텍스트 형태로 되어 있는 다수의 문서들로부터 공통적으로 내재되어 있는 주제들을 추출하기 위한 방법론이다."
   ]
  },
  {
   "cell_type": "code",
   "execution_count": 85,
   "metadata": {},
   "outputs": [],
   "source": [
    "import csv\n",
    "text = []\n",
    "y = []\n",
    "\n",
    "with open('C:\\\\Users\\\\Administrator\\\\Downloads\\\\movie_data_new.csv', encoding='utf-8') as csvfile:\n",
    "    csvreader = csv.reader(csvfile)\n",
    "    for row in csvreader:\n",
    "        #print(row)\n",
    "        if row and len(row[0]) > 10: #review 길이가 10자 이상인 경우만\n",
    "#        if row: #그 줄에 내용이 있는 경우에만\n",
    "            text.append(row[0]) #영화 리뷰를 text 리스트에 추가\n",
    "            y.append(row[2]) #영화이름을 text 리스트에 추가"
   ]
  },
  {
   "cell_type": "code",
   "execution_count": 86,
   "metadata": {},
   "outputs": [
    {
     "name": "stdout",
     "output_type": "stream",
     "text": [
      "리뷰 수: 12445\n",
      "리뷰영화: {'택시운전사', '곤지암', '라라랜드', '코코', '신과함께', '범죄도시', '인피니티 워'}\n"
     ]
    }
   ],
   "source": [
    "print('리뷰 수:', len(text))\n",
    "print('리뷰영화:', set(y))"
   ]
  },
  {
   "cell_type": "code",
   "execution_count": 128,
   "metadata": {},
   "outputs": [
    {
     "data": {
      "text/plain": [
       "['헐..다 죽었어....나중에 앤트맨 보다가도 깜놀...',\n",
       " '개연성은 무시해라 액션을 즐겨라 스타로드가 이끌어준다 각각의 영웅들을 즐겨라 그리고 단적인 신념이 얼마나 부질없는지 보셔라',\n",
       " '정말 지루할틈없이 넘잘만들었다 역시 대단하다',\n",
       " '마지막에 누구한테 연락한거지? 궁금',\n",
       " '다음 편이 궁굼해지네요^^',\n",
       " '안잼있는사람 있음???????????',\n",
       " '잘 만들었다! 지루할 틈이 없네...']"
      ]
     },
     "execution_count": 128,
     "metadata": {},
     "output_type": "execute_result"
    }
   ],
   "source": [
    "text[:7]"
   ]
  },
  {
   "cell_type": "markdown",
   "metadata": {},
   "source": [
    "#### 한글 처리를 위해서는 konlpy가 필요\n",
    "topic modeling은 count vector를 사용하므로 sklearn의 CountVectorizer를 사용"
   ]
  },
  {
   "cell_type": "code",
   "execution_count": 94,
   "metadata": {},
   "outputs": [],
   "source": [
    "from konlpy.tag import Okt #konlpy에서 Twitter 형태소 분석기를 import\n",
    "twitter_tag = Okt()\n",
    "\n",
    "from sklearn.feature_extraction.text import CountVectorizer\n",
    "\n",
    "vec = CountVectorizer(tokenizer=twitter_tag.nouns, #우선은 명사만 사용\n",
    "                      decode_error ='ignore', \n",
    "                      max_df=0.5, #너무 자주 나타나는 단어는 제외, 책에서는 0.15를 사용\n",
    "                      #min_df = 3, #3개 미만의 문서에서 나타난 단어는 제외, 여기서는 max_features를 1000으로 제한하므로 별 필요 없음\n",
    "                      max_features = 1000) #적당한 대상 단어 수를 선택\n",
    "review_cv = vec.fit_transform(text)\n",
    "# 실행하는 데에 시간은 꽤 소요되었습니다,"
   ]
  },
  {
   "cell_type": "code",
   "execution_count": 92,
   "metadata": {},
   "outputs": [
    {
     "name": "stdout",
     "output_type": "stream",
     "text": [
      "Collecting konlpy\n",
      "  Downloading konlpy-0.5.2-py2.py3-none-any.whl (19.4 MB)\n",
      "Requirement already satisfied: colorama in c:\\users\\administrator\\appdata\\roaming\\python\\python37\\site-packages (from konlpy) (0.4.1)\n",
      "Collecting tweepy>=3.7.0\n",
      "  Downloading tweepy-3.9.0-py2.py3-none-any.whl (30 kB)\n",
      "Requirement already satisfied: numpy>=1.6 in c:\\programdata\\anaconda3\\lib\\site-packages (from konlpy) (1.18.1)\n",
      "Collecting beautifulsoup4==4.6.0\n",
      "  Downloading beautifulsoup4-4.6.0-py3-none-any.whl (86 kB)\n",
      "Collecting JPype1>=0.7.0\n",
      "  Downloading JPype1-1.1.2-cp37-cp37m-win_amd64.whl (1.6 MB)\n",
      "Requirement already satisfied: lxml>=4.1.0 in c:\\programdata\\anaconda3\\lib\\site-packages (from konlpy) (4.5.0)\n",
      "Requirement already satisfied: requests-oauthlib>=0.7.0 in c:\\programdata\\anaconda3\\lib\\site-packages (from tweepy>=3.7.0->konlpy) (1.3.0)\n",
      "Requirement already satisfied: requests[socks]>=2.11.1 in c:\\programdata\\anaconda3\\lib\\site-packages (from tweepy>=3.7.0->konlpy) (2.22.0)\n",
      "Requirement already satisfied: six>=1.10.0 in c:\\users\\administrator\\appdata\\roaming\\python\\python37\\site-packages (from tweepy>=3.7.0->konlpy) (1.13.0)\n",
      "Collecting typing-extensions; python_version < \"3.8\"\n",
      "  Downloading typing_extensions-3.7.4.3-py3-none-any.whl (22 kB)\n",
      "Requirement already satisfied: oauthlib>=3.0.0 in c:\\programdata\\anaconda3\\lib\\site-packages (from requests-oauthlib>=0.7.0->tweepy>=3.7.0->konlpy) (3.1.0)\n",
      "Requirement already satisfied: certifi>=2017.4.17 in c:\\programdata\\anaconda3\\lib\\site-packages (from requests[socks]>=2.11.1->tweepy>=3.7.0->konlpy) (2019.11.28)\n",
      "Requirement already satisfied: urllib3!=1.25.0,!=1.25.1,<1.26,>=1.21.1 in c:\\programdata\\anaconda3\\lib\\site-packages (from requests[socks]>=2.11.1->tweepy>=3.7.0->konlpy) (1.25.8)\n",
      "Requirement already satisfied: chardet<3.1.0,>=3.0.2 in c:\\programdata\\anaconda3\\lib\\site-packages (from requests[socks]>=2.11.1->tweepy>=3.7.0->konlpy) (3.0.4)\n",
      "Requirement already satisfied: idna<2.9,>=2.5 in c:\\programdata\\anaconda3\\lib\\site-packages (from requests[socks]>=2.11.1->tweepy>=3.7.0->konlpy) (2.8)\n",
      "Requirement already satisfied: PySocks!=1.5.7,>=1.5.6; extra == \"socks\" in c:\\programdata\\anaconda3\\lib\\site-packages (from requests[socks]>=2.11.1->tweepy>=3.7.0->konlpy) (1.7.1)\n",
      "Installing collected packages: tweepy, beautifulsoup4, typing-extensions, JPype1, konlpy\n",
      "  Attempting uninstall: beautifulsoup4\n",
      "    Found existing installation: beautifulsoup4 4.8.2\n",
      "    Uninstalling beautifulsoup4-4.8.2:\n",
      "      Successfully uninstalled beautifulsoup4-4.8.2\n",
      "Successfully installed JPype1-1.1.2 beautifulsoup4-4.6.0 konlpy-0.5.2 tweepy-3.9.0 typing-extensions-3.7.4.3\n",
      "Note: you may need to restart the kernel to use updated packages.\n"
     ]
    }
   ],
   "source": [
    "pip install konlpy # konlpy가 없다고 에러가 나서 다운실행"
   ]
  },
  {
   "cell_type": "code",
   "execution_count": 95,
   "metadata": {},
   "outputs": [
    {
     "data": {
      "text/plain": [
       "(12445, 1000)"
      ]
     },
     "execution_count": 95,
     "metadata": {},
     "output_type": "execute_result"
    }
   ],
   "source": [
    "review_cv.shape"
   ]
  },
  {
   "cell_type": "markdown",
   "metadata": {},
   "source": [
    "#### sklearn의 LatentDirichletAllocation을 이용하여 topic modeling 수행\n",
    "다양한 argument를 적절히 이용하는 것이 중요"
   ]
  },
  {
   "cell_type": "code",
   "execution_count": 96,
   "metadata": {},
   "outputs": [],
   "source": [
    "from sklearn.decomposition import LatentDirichletAllocation\n",
    "\n",
    "lda = LatentDirichletAllocation(n_components = 10, #추출할 topic의 수를 지정\n",
    "                                max_iter=25, #max_iter는 최종 모형에서는 5,000~10,000번 시도한다고 알려져 있음\n",
    "                                topic_word_prior= 0.1, doc_topic_prior=1.0,\n",
    "                                #topic_word_prior: beta, doc_topic_prior: alpha\n",
    "                                #일반적으로 beta는 0.1로 고정하고 alpha를 50/topic의 수 근처의 값을 시도\n",
    "                                #alpha와 beta는 낮은 값을 사용할수록 특정 토픽들이 두드러지도록 하는 효과가 있다고 합\n",
    "                                learning_method='batch', #'batch'는 'online'에 비해 더 성능이 좋고 느림, 현재는 default\n",
    "                                n_jobs= -1, #사용 processor 수, None이면 1, -1이면 모두 사용\n",
    "                                random_state=0)\n",
    "\n",
    "review_topics = lda.fit_transform(review_cv)"
   ]
  },
  {
   "cell_type": "code",
   "execution_count": 97,
   "metadata": {},
   "outputs": [
    {
     "name": "stdout",
     "output_type": "stream",
     "text": [
      "document-topic distribution dimenstion (12445, 10)\n"
     ]
    }
   ],
   "source": [
    "print('document-topic distribution dimenstion', review_topics.shape)"
   ]
  },
  {
   "cell_type": "code",
   "execution_count": 103,
   "metadata": {},
   "outputs": [],
   "source": [
    "def print_top_words(model, feature_names, n_top_words):\n",
    "    for topic_idx, topic in enumerate(model.components_):\n",
    "        print(\"Topic #%d: \" % topic_idx, end='')\n",
    "        # \", \"을 이용해서 끊어주기\n",
    "        print(\", \".join([feature_names[i] for i in topic.argsort()[:-n_top_words - 1:-1]]))\n",
    "        #print(\", \".join([feature_names[i]+'('+str(topic[i])+')' for i in topic.argsort()[:-n_top_words - 1:-1]]))\n",
    "        # 위 slicing에서 맨 뒤 -1은 역순을 의미, 역순으로 했을 때 처음부터 n_top_words까지\n",
    "    print()"
   ]
  },
  {
   "cell_type": "code",
   "execution_count": 102,
   "metadata": {},
   "outputs": [
    {
     "name": "stdout",
     "output_type": "stream",
     "text": [
      "Topic #0: 좀, 느낌, 감독, 공포영화, 공포, 보기, 감, 소재, 나름, 소리\n",
      "Topic #1: 더, 정말, 말, 다시, 음악, 한번, 사랑, 모두, 작품, 인생\n",
      "Topic #2: 스토리, 내용, 마블, 부분, 만, 이해, 조금, 영상, 전개, 수준\n",
      "Topic #3: 생각, 영화, 것, 수, 듯, 한국, 역시, 신, 대한, 내내\n",
      "Topic #4: 그, 광주, 편, 역사, 우리, 가슴, 송강호, 노스, 택시, 다음\n",
      "Topic #5: 연기, 배우, 최고, 마동석, 윤계상, 액션, 차태현, 함, 한국영, 연기력\n",
      "Topic #6: 사람, 진짜, 그냥, 원작, 때, 안, 뭐, 신파, 거, 하나\n",
      "Topic #7: 감동, 눈물, 재미, 마지막, 꼭, 보고, 가족, 처음, 끝, 추천\n",
      "Topic #8: 시간, 볼, 내, 왜, 기대, 중간, 또, 나, 별로, 임\n",
      "Topic #9: 영화, 점, 이, 돈, 평점, 관객, 중, 눈, 천만, 난\n",
      "\n"
     ]
    }
   ],
   "source": [
    "print_top_words(lda,vec.get_feature_names(), 10)\n",
    "# 놀랍습니다"
   ]
  },
  {
   "cell_type": "markdown",
   "metadata": {},
   "source": [
    "#### 한 자로 구성된 명사들은 의미파악이 어려우므로 삭제할 필요가 있음\n",
    "두 자 이상만 반환하는 함수를 작성"
   ]
  },
  {
   "cell_type": "code",
   "execution_count": 132,
   "metadata": {},
   "outputs": [
    {
     "data": {
      "text/plain": [
       "['개연', '성은', '무시', '액션', '스타로드', '각각', '영웅', '적', '신념', '얼마나']"
      ]
     },
     "execution_count": 132,
     "metadata": {},
     "output_type": "execute_result"
    }
   ],
   "source": [
    "twitter_tag.nouns(text[1])"
   ]
  },
  {
   "cell_type": "code",
   "execution_count": 105,
   "metadata": {},
   "outputs": [],
   "source": [
    "def tokenizer(str):\n",
    "    return [token for token in twitter_tag.nouns(str) if len(token) > 1]\n",
    "# 길이가 2이상인 명사들만 리턴"
   ]
  },
  {
   "cell_type": "code",
   "execution_count": 106,
   "metadata": {},
   "outputs": [
    {
     "data": {
      "text/plain": [
       "['개연', '성은', '무시', '액션', '스타로드', '각각', '영웅', '신념', '얼마나']"
      ]
     },
     "execution_count": 106,
     "metadata": {},
     "output_type": "execute_result"
    }
   ],
   "source": [
    "tokenizer(text[1])"
   ]
  },
  {
   "cell_type": "markdown",
   "metadata": {},
   "source": [
    "'적'과 같이 한 자로 된 단어를 제거하고 count vector 생성"
   ]
  },
  {
   "cell_type": "code",
   "execution_count": 133,
   "metadata": {},
   "outputs": [],
   "source": [
    "#count vector 새로 생성\n",
    "vec = CountVectorizer(tokenizer=tokenizer, decode_error ='ignore', \n",
    "                      max_df=0.5, max_features = 500) #너무 자주 나타나는 단어는 제외\n",
    "review_cv = vec.fit_transform(text)"
   ]
  },
  {
   "cell_type": "code",
   "execution_count": 135,
   "metadata": {},
   "outputs": [
    {
     "name": "stdout",
     "output_type": "stream",
     "text": [
      "Topic #0: 연기, 배우, 마동석, 윤계상, 액션, 영화, 차태현, 최고, 조연, 하정우\n",
      "Topic #1: 스토리, 마블, 송강호, 역시, 노스, 택시, 주인공, 전개, 연기력, 배우\n",
      "Topic #2: 정도, 장면, 원작, 신파, 마지막, 마음, 영화, 대한, 나름, 생각\n",
      "Topic #3: 영화, 광주, 역사, 사람, 우리, 가슴, 현실, 사실, 기억, 소재\n",
      "Topic #4: 재미, 보고, 사람, 생각, 영화, 부분, 한번, 웹툰, 내용, 공포\n",
      "Topic #5: 영화, 중간, 관객, 이해, 때문, 완전, 조금, 다음, 천만, 생각\n",
      "Topic #6: 영화, 시간, 가족, 보기, 아이, 한국영, 다른, 생각, 상영, 제대로\n",
      "Topic #7: 눈물, 기대, 처음, 영화, 작품, 느낌, 별로, 내용, 마지막, 내내\n",
      "Topic #8: 감동, 영화, 진짜, 다시, 음악, 최고, 사랑, 추천, 우리나라, 대박\n",
      "Topic #9: 영화, 정말, 그냥, 평점, 감독, 수준, 최악, 엄마, 알바, 실망\n",
      "\n"
     ]
    }
   ],
   "source": [
    "#topic modeling 수행\n",
    "lda = LatentDirichletAllocation(n_components = 10, max_iter=15, \n",
    "                                topic_word_prior= 0.1, doc_topic_prior=1.0,\n",
    "                                learning_method='batch',\n",
    "                                n_jobs= -1,\n",
    "                                random_state=0)\n",
    "review_topics = lda.fit_transform(review_cv)\n",
    "print_top_words(lda,vec.get_feature_names(), 10)"
   ]
  },
  {
   "cell_type": "code",
   "execution_count": 110,
   "metadata": {},
   "outputs": [
    {
     "name": "stdout",
     "output_type": "stream",
     "text": [
      "topic-word distribution dimension: (50, 1000)\n",
      "Cluster label: [0 0 1 1 1 0 0 1 3 1 0 1 1 1 4 1 1 1 0 1 1 0 0 0 1 1 0 0 0 1 1 1 0 0 0 1 1\n",
      " 2 1 1 0 0 1 0 0 0 1 1 0 1]\n"
     ]
    }
   ],
   "source": [
    "from sklearn.cluster import KMeans\n",
    "\n",
    "kmeans = KMeans(n_clusters=5) #5개 클러스터로 분류\n",
    "kmeans.fit(lda.components_)\n",
    "\n",
    "print('topic-word distribution dimension:', lda.components_.shape)\n",
    "print('Cluster label:', kmeans.labels_)"
   ]
  },
  {
   "cell_type": "code",
   "execution_count": 111,
   "metadata": {},
   "outputs": [
    {
     "name": "stdout",
     "output_type": "stream",
     "text": [
      "TSNE dimension: (50, 2)\n"
     ]
    },
    {
     "data": {
      "text/plain": [
       "array([  -6.949179  ,  -53.49401   , -156.57956   ,  -46.939014  ,\n",
       "         56.485733  ,  -29.716232  , -125.482475  ,  136.42862   ,\n",
       "        110.15663   , -117.80809   ,  -10.865295  ,    9.774828  ,\n",
       "         74.02505   ,  -33.142303  ,   83.51573   ,  -87.200676  ,\n",
       "        -92.081924  ,  -84.47544   ,  -19.687847  , -134.00212   ,\n",
       "        122.0648    ,  133.9484    ,  -53.1566    ,   63.531685  ,\n",
       "         28.457357  ,  -16.240503  ,  -59.76433   ,  -49.56166   ,\n",
       "         14.863495  ,  -42.056747  ,  -97.79358   ,   14.14204   ,\n",
       "        -62.900517  ,   79.143585  ,   42.47803   ,   58.135487  ,\n",
       "         82.55377   ,   10.457184  ,   56.48281   ,  -41.110104  ,\n",
       "         22.983059  ,   39.21739   ,   71.76845   ,   -0.75666666,\n",
       "        -12.642868  ,  -33.12661   ,   10.020607  ,  -10.412574  ,\n",
       "         22.035631  ,   42.73961   ], dtype=float32)"
      ]
     },
     "execution_count": 111,
     "metadata": {},
     "output_type": "execute_result"
    }
   ],
   "source": [
    "from sklearn.manifold import TSNE\n",
    "tsne = TSNE(n_components=2, random_state=42)\n",
    "tsne_review = tsne.fit_transform(lda.components_)\n",
    "print('TSNE dimension:', tsne_review.shape)\n",
    "tsne_review[:,0]"
   ]
  },
  {
   "cell_type": "code",
   "execution_count": 112,
   "metadata": {},
   "outputs": [],
   "source": [
    "%matplotlib inline\n",
    "import matplotlib.pyplot as plt\n",
    "from matplotlib import font_manager, rc\n",
    "font_name = font_manager.FontProperties(fname=\"c:/Windows/Fonts/malgun.ttf\").get_name()\n",
    "rc('font', family=font_name)\n",
    "import matplotlib as mpl\n",
    "\n",
    "# 그래프에서 마이너스 폰트 깨지는 문제에 대한 대처\n",
    "mpl.rcParams['axes.unicode_minus'] = False"
   ]
  },
  {
   "cell_type": "code",
   "execution_count": 124,
   "metadata": {},
   "outputs": [
    {
     "data": {
      "image/png": "[encoded data removed]",
      "text/plain": [
       "<Figure size 432x288 with 1 Axes>"
      ]
     },
     "metadata": {
      "needs_background": "light"
     },
     "output_type": "display_data"
    },
    {
     "data": {
      "image/png": "[encoded data removed]",
      "text/plain": [
       "<Figure size 1080x720 with 1 Axes>"
      ]
     },
     "metadata": {
      "needs_background": "light"
     },
     "output_type": "display_data"
    }
   ],
   "source": [
    "colors = {0:'blue', 1:'yellow', 2:'red', 3:'green', 4:'purple'}\n",
    "x1 = tsne_review[:,0]\n",
    "x2 = tsne_review[:,1]\n",
    "plt.scatter(x1, x2)\n",
    "\n",
    "plt.figure(figsize=(15,10))\n",
    "plt.xlim(min(x1), max(x1))\n",
    "plt.ylim(min(x2), max(x2))\n",
    "for i in range(len(x1)):\n",
    "#    plt.text(X1_lsi[i], X2_lsi[i], sample_label[i],\n",
    "#            color = colors[sample_label[i]])\n",
    "    plt.text(x1[i], x2[i], kmeans.labels_[i],\n",
    "            color = colors[kmeans.labels_[i]])\n",
    "\n",
    "#for word, pos in df.iterrows():\n",
    "#    ax.annotate(word, pos, fontsize=30)\n",
    "plt.show()\n",
    "\n",
    "#아래 결과를 보면 각 topic들이 고르게 분포하고 있어, 클러스터링이 별로 의미 없음을 알 수 있음"
   ]
  },
  {
   "cell_type": "markdown",
   "metadata": {},
   "source": [
    "#### 최적의 결과를 찾기 위한 방법\n",
    "적절한 topic의 수는 perplexity 값을 이용해 찾음.\n",
    "낮을 수록 좋은 모형이나, 사람의 판단과 일치하지 않을 수 있음\n",
    "http://qpleple.com/perplexity-to-evaluate-topic-models/\n",
    "그 외에 alpha, beta는 앞서 설명한 바와 같이 beta=0.1로 고정하고 alpha를 50/토픽수 근처에서 찾아나감\n",
    "반복횟수는 5,000번 정도면 수렴"
   ]
  },
  {
   "cell_type": "code",
   "execution_count": 114,
   "metadata": {},
   "outputs": [
    {
     "data": {
      "text/plain": [
       "580.7734310430868"
      ]
     },
     "execution_count": 114,
     "metadata": {},
     "output_type": "execute_result"
    }
   ],
   "source": [
    "lda.perplexity(review_cv)"
   ]
  },
  {
   "cell_type": "code",
   "execution_count": 117,
   "metadata": {
    "scrolled": false
   },
   "outputs": [
    {
     "name": "stdout",
     "output_type": "stream",
     "text": [
      "Topic #0: 영화, 공포영화, 공포, 초반, 약간, 아주, 감동, 곤지암, 디즈니, 나름\n",
      "Topic #1: 영화, 마블, 노스, 다음, 결말, 주인공, 작품, 어벤져스, 히어로, 뮤지컬\n",
      "Topic #2: 연기, 마동석, 윤계상, 배우, 액션, 조연, 영화, 조선족, 주연, 간만\n",
      "Topic #3: 광주, 택시, 모두, 시민, 인간, 가슴, 지금, 전두환, 운전사, 위해\n",
      "Topic #4: 영화, 우리, 송강호, 역사, 계속, 감동, 개인, 사람, 웃음, 민주화\n",
      "Topic #5: 영화, 평점, 웹툰, 원작, 기억, 내용, 만화, 강철, 사람, 공감\n",
      "Topic #6: 영화, 생각, 한국, 귀신, 장면, 다시, 판타지, 배우, 여자, 스크린\n",
      "Topic #7: 영화, 완전, 시간, 사람, 사실, 역사, 영상, 국민, 표현, 기자\n",
      "Topic #8: 신파, 정말, 눈물, 차태현, 배우, 영화, 진짜, 김동욱, 대박, 하정우\n",
      "Topic #9: 영화, 보고, 추천, 정말, 영화관, 범죄, 아들, 재미, 강추, 도시\n",
      "Topic #10: 영화, 감동, 기대, 천만, 그냥, 우리나라, 알바, 재미, 쓰레기, 무슨\n",
      "Topic #11: 영화, 사랑, 음악, 인생, 최고, 이야기, 마지막, 여운, 현실, 장면\n",
      "Topic #12: 영화, 원작, 감동, 부분, 재미, 스토리, 실망, 내용, 그래픽, 그냥\n",
      "Topic #13: 영화, 이해, 마지막, 진짜, 눈물, 감동, 사람, 정말, 감정, 최고\n",
      "Topic #14: 스토리, 중간, 영화, 한국영, 전개, 억지, 감독, 최악, 내용, 얘기\n",
      "\n"
     ]
    },
    {
     "data": {
      "text/plain": [
       "487.35716470030144"
      ]
     },
     "execution_count": 117,
     "metadata": {},
     "output_type": "execute_result"
    }
   ],
   "source": [
    "#topic modeling 수행\n",
    "lda = LatentDirichletAllocation(n_components = 15, max_iter=25, \n",
    "                                topic_word_prior= 0.1, doc_topic_prior=2.0,\n",
    "                                learning_method='batch',\n",
    "                                n_jobs= -1,\n",
    "                                random_state=0)\n",
    "review_topics = lda.fit_transform(review_cv)\n",
    "print_top_words(lda,vec.get_feature_names(), 10)\n",
    "lda.perplexity(review_cv)"
   ]
  },
  {
   "cell_type": "code",
   "execution_count": 116,
   "metadata": {},
   "outputs": [
    {
     "name": "stdout",
     "output_type": "stream",
     "text": [
      "Topic #0: 감동, 영화, 가족, 보기, 아이, 역시, 아주, 기억, 약간, 뭔가\n",
      "Topic #1: 마블, 음악, 사랑, 영화, 노스, 현실, 결말, 다음, 주인공, 여운\n",
      "Topic #2: 연기, 배우, 최고, 마동석, 윤계상, 액션, 연출, 연기력, 조연, 캐릭터\n",
      "Topic #3: 광주, 역사, 우리, 가슴, 송강호, 모두, 마음, 택시, 지금, 내내\n",
      "Topic #4: 스토리, 느낌, 영화, 이야기, 작품, 관객, 때문, 별로, 조금, 몰입\n",
      "Topic #5: 그냥, 내용, 영화, 원작, 평점, 웹툰, 수준, 이해, 천만, 소재\n",
      "Topic #6: 영화, 생각, 감독, 한국, 다시, 한번, 공포영화, 공포, 최악, 나름\n",
      "Topic #7: 사람, 시간, 마지막, 장면, 정도, 부분, 인생, 완전, 영상, 이영화\n",
      "Topic #8: 정말, 진짜, 눈물, 신파, 중간, 차태현, 한국영, 대박, 억지, 하정우\n",
      "Topic #9: 영화, 보고, 재미, 기대, 처음, 추천, 이제, 영화관, 관람, 후회\n",
      "\n"
     ]
    },
    {
     "data": {
      "text/plain": [
       "412.2882740895649"
      ]
     },
     "execution_count": 116,
     "metadata": {},
     "output_type": "execute_result"
    }
   ],
   "source": [
    "#topic modeling 수행\n",
    "lda = LatentDirichletAllocation(n_components = 10, max_iter=25, \n",
    "                                topic_word_prior= 0.1, doc_topic_prior=1.0,\n",
    "                                learning_method='batch',\n",
    "                                n_jobs= -1,\n",
    "                                random_state=0)\n",
    "review_topics = lda.fit_transform(review_cv)\n",
    "print_top_words(lda,vec.get_feature_names(), 10)\n",
    "lda.perplexity(review_cv)"
   ]
  },
  {
   "cell_type": "code",
   "execution_count": null,
   "metadata": {},
   "outputs": [],
   "source": []
  }
 ],
 "metadata": {
  "kernelspec": {
   "display_name": "Python 3",
   "language": "python",
   "name": "python3"
  },
  "language_info": {
   "codemirror_mode": {
    "name": "ipython",
    "version": 3
   },
   "file_extension": ".py",
   "mimetype": "text/x-python",
   "name": "python",
   "nbconvert_exporter": "python",
   "pygments_lexer": "ipython3",
   "version": "3.7.6"
  }
 },
 "nbformat": 4,
 "nbformat_minor": 4
}
